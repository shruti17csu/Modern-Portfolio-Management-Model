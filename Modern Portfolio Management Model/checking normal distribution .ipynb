{
 "cells": [
  {
   "cell_type": "code",
   "execution_count": 17,
   "id": "af91bf06",
   "metadata": {},
   "outputs": [],
   "source": [
    "import numpy as np \n",
    "import pandas as pd\n",
    "import yfinance as yf\n",
    "import matplotlib.pyplot as plt\n",
    "from scipy.stats import norm\n"
   ]
  },
  {
   "cell_type": "code",
   "execution_count": 22,
   "id": "6ae43538",
   "metadata": {},
   "outputs": [],
   "source": [
    "def download_data(stock, start_date,end_date):\n",
    "    data=yf.download(stock,start_date,end_date)\n",
    "    data['Price']=data['Adj Close']\n",
    "    return pd.DataFrame(data)\n",
    "def daily_returns(data):\n",
    "    data=np.log(data['Price']/data['Price'].shift(1))\n",
    "    return pd.DataFrame(data)[1:]\n",
    "def plot_data(data):\n",
    "    plt.hist(data, bins=700)\n",
    "    stock_variance = data.var()\n",
    "    stock_mean = data.mean()\n",
    "    sigma = np.sqrt(stock_variance)\n",
    "    x = np.linspace(stock_mean - 3 * sigma, stock_mean + 3 * sigma, 200)\n",
    "    plt.plot(x, norm.pdf(x, stock_mean, sigma))\n",
    "    plt.show()\n",
    "    \n"
   ]
  },
  {
   "cell_type": "code",
   "execution_count": 23,
   "id": "d6b5e2f0",
   "metadata": {},
   "outputs": [
    {
     "name": "stdout",
     "output_type": "stream",
     "text": [
      "[*********************100%***********************]  1 of 1 completed\n"
     ]
    },
    {
     "data": {
      "image/png": "[encoded data removed]",
      "text/plain": [
       "<Figure size 432x288 with 1 Axes>"
      ]
     },
     "metadata": {
      "needs_background": "light"
     },
     "output_type": "display_data"
    }
   ],
   "source": [
    "if __name__==\"__main__\":\n",
    "    \n",
    "    stock = download_data('IBM', '2010-01-01', '2020-01-01')\n",
    "    log_daily_returns = daily_returns(stock)\n",
    "    plot_data(log_daily_returns)\n",
    "\n",
    "    "
   ]
  },
  {
   "cell_type": "code",
   "execution_count": null,
   "id": "1c897e7b",
   "metadata": {},
   "outputs": [],
   "source": []
  },
  {
   "cell_type": "code",
   "execution_count": null,
   "id": "a2f3d1c7",
   "metadata": {},
   "outputs": [],
   "source": []
  }
 ],
 "metadata": {
  "kernelspec": {
   "display_name": "Python 3 (ipykernel)",
   "language": "python",
   "name": "python3"
  },
  "language_info": {
   "codemirror_mode": {
    "name": "ipython",
    "version": 3
   },
   "file_extension": ".py",
   "mimetype": "text/x-python",
   "name": "python",
   "nbconvert_exporter": "python",
   "pygments_lexer": "ipython3",
   "version": "3.9.12"
  }
 },
 "nbformat": 4,
 "nbformat_minor": 5
}
